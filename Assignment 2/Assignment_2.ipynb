{
  "cells": [
    {
      "cell_type": "markdown",
      "id": "82e7877d",
      "metadata": {
        "id": "82e7877d"
      },
      "source": [
        "# Assignmnet 2 (100 points)"
      ]
    },
    {
      "cell_type": "markdown",
      "id": "297b6d20",
      "metadata": {
        "id": "297b6d20"
      },
      "source": [
        "**Name:** Jiahui Dai<br>\n",
        "**Email:** jid4620@thi.de<br>\n",
        "**Group:** B <br>\n",
        "**Hours spend *(optional)* :** <br>"
      ]
    },
    {
      "cell_type": "code",
      "execution_count": 1,
      "id": "ca0db8d8",
      "metadata": {},
      "outputs": [],
      "source": [
        "# Import modules\n",
        "import os"
      ]
    },
    {
      "cell_type": "code",
      "execution_count": 2,
      "id": "790c57d5",
      "metadata": {},
      "outputs": [],
      "source": [
        "# Load filenames\n",
        "data_folder = \"sms_spam_collection\"\n",
        "sms_spam_collection = os.path.join(data_folder, \"SMSSpamCollection\")"
      ]
    },
    {
      "cell_type": "markdown",
      "id": "09f79f88",
      "metadata": {
        "id": "09f79f88"
      },
      "source": [
        "### SMS Spam Detection *(60 points)*"
      ]
    },
    {
      "cell_type": "markdown",
      "id": "148e88d0",
      "metadata": {
        "id": "148e88d0"
      },
      "source": [
        "<p>You are hired as an AI expert in the development department of a telecommunications company. The first thing on your orientation plan is a small project that your boss has assigned you for the following given situation. Your supervisor has given away his private cell phone number on too many websites and is now complaining about daily spam SMS. Therefore, it is your job to write a spam detector in Python. </p>\n",
        "\n",
        "<p>In doing so, you need to use a Naive Bayes classifier that can handle both bag-of-words (BoW) and tf-idf features as input. For the evaluation of your spam detector, an SMS collection is available as a dataset - this has yet to be suitably split into train and test data. To keep the costs as low as possible and to avoid problems with copyrights, your boss insists on a new development with Python.</p>\n",
        "\n",
        "<p>Include a short description of the data preprocessing steps, method, experiment design, hyper-parameters, and evaluation metric. Also, document your findings, drawbacks, and potential improvements.</p>\n",
        "\n",
        "<p>Note: You need to implement the bag-of-words (BoW) and tf-idf feature extractor from scratch. You can use existing python libraries for other tasks.</p>"
      ]
    },
    {
      "cell_type": "markdown",
      "id": "fad12eba",
      "metadata": {
        "id": "fad12eba"
      },
      "source": [
        "**Dataset and Resources**\n",
        "\n",
        "* SMS Spam Collection Dataset: https://archive.ics.uci.edu/dataset/228/sms+spam+collection"
      ]
    },
    {
      "cell_type": "code",
      "execution_count": null,
      "id": "f4109920",
      "metadata": {
        "id": "f4109920"
      },
      "outputs": [],
      "source": [
        "def bag_of_words(documents):\n",
        "    ## Complete the function\n",
        "    pass\n",
        "\n",
        "def tf_idf(documents):\n",
        "    ## Complete the function\n",
        "    pass\n",
        "\n",
        "## You can use sklearn or other python libraries for naive bayes classifier, evaluation metric, etc.  ##"
      ]
    },
    {
      "cell_type": "markdown",
      "id": "jEykmdVPwqPA",
      "metadata": {
        "id": "jEykmdVPwqPA"
      },
      "source": [
        " ### Search Engine *(40 points)*"
      ]
    },
    {
      "cell_type": "markdown",
      "id": "-CRJj4Ypw1Z2",
      "metadata": {
        "id": "-CRJj4Ypw1Z2"
      },
      "source": [
        "Your boss is impressed with your spam detector and assigns you a new task. As part of improving internal tools, the company wants a search engine that can search through SMS messages and rank them by relevance. Implement the PageRank algorithm from scratch to score each SMS message based on its importance in the document graph.\n",
        "\n",
        "*   Compute TF-IDF vectors for all SMS messages (you can leverage previous implementation)\n",
        "*   Construct a document graph, where each node represents an SMS message and edges are the links between nodes.\n",
        "*  Implement the PageRank algorithm from scratch to assign an importance score to each SMS message based on its position in the document graph.\n",
        "\n",
        "#### Hint : You can use the previous dataset or any dataset from your choice.\n",
        "\n",
        "\n"
      ]
    },
    {
      "cell_type": "markdown",
      "id": "G_2IblEnUeju",
      "metadata": {
        "id": "G_2IblEnUeju"
      },
      "source": [
        "## You might need the follwoing formulas for your implementation\n",
        "\n",
        "---\n",
        "\n",
        "### 1) Cosine Similarity Between Two Document Vectors\n",
        "\n",
        "Cosine similarity measures how similar two vectors are based on the angle between them:\n",
        "\n",
        "$$\n",
        "\\text{cosine\\_sim}(A, B) = \\frac{A \\cdot B}{\\|A\\| \\cdot \\|B\\|}\n",
        "$$\n",
        "\n",
        "- \\( A \\cdot B \\): Dot product of vectors \\( A \\) and \\( B \\)  \n",
        "- \\( \\|A\\| \\): Euclidean norm (magnitude) of vector \\( A \\)  \n",
        "- \\( \\|B\\| \\): Euclidean norm of vector \\( B \\)\n",
        "\n",
        "**Use case**: Comparing TF-IDF vectors to measure similarity between two messages.\n",
        "\n",
        "---\n",
        "\n",
        "### 2) PageRank of a Node \\( i \\)\n",
        "\n",
        "PageRank estimates the importance of a document based on its connections in a graph:\n",
        "\n",
        "$$\n",
        "PR(i) = \\frac{1 - d}{N} + d \\sum_{j \\in M(i)} \\frac{PR(j)}{L(j)}\n",
        "$$\n",
        "\n",
        "Where:\n",
        "- \\( PR(i) \\): PageRank score of node \\( i \\)  \n",
        "- \\( d \\): Damping factor (typically 0.85)  \n",
        "- \\( N \\): Total number of nodes (documents) in the graph  \n",
        "- \\( M(i) \\): Set of nodes that link to node \\( i \\)  \n",
        "- \\( L(j) \\): Number of outbound links from node \\( j \\)  \n",
        "\n",
        "**Interpretation**:  \n",
        "- A document is important if **important documents link to it**.  \n",
        "- The score is split among a node’s outbound links.  \n",
        "- The **teleportation term** $\\text(\\frac{1 - d}{N})$ accounts for random jumps, ensuring stability and fairness.\n",
        "\n",
        "---\n",
        "\n"
      ]
    },
    {
      "cell_type": "markdown",
      "id": "55cbc82a",
      "metadata": {
        "id": "55cbc82a"
      },
      "source": [
        "### Additional Experiments *(5 additional points - <span style=\"color: red;\">Optional</span>)*"
      ]
    },
    {
      "cell_type": "code",
      "execution_count": null,
      "id": "9b5820d4",
      "metadata": {
        "id": "9b5820d4"
      },
      "outputs": [],
      "source": []
    }
  ],
  "metadata": {
    "colab": {
      "provenance": []
    },
    "kernelspec": {
      "display_name": "Python 3",
      "language": "python",
      "name": "python3"
    },
    "language_info": {
      "codemirror_mode": {
        "name": "ipython",
        "version": 3
      },
      "file_extension": ".py",
      "mimetype": "text/x-python",
      "name": "python",
      "nbconvert_exporter": "python",
      "pygments_lexer": "ipython3",
      "version": "3.12.0"
    }
  },
  "nbformat": 4,
  "nbformat_minor": 5
}
