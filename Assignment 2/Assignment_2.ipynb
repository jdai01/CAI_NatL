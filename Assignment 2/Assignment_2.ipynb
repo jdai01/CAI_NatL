{
  "cells": [
    {
      "cell_type": "markdown",
      "id": "82e7877d",
      "metadata": {
        "id": "82e7877d"
      },
      "source": [
        "# Assignmnet 2 (100 points)"
      ]
    },
    {
      "cell_type": "markdown",
      "id": "297b6d20",
      "metadata": {
        "id": "297b6d20"
      },
      "source": [
        "**Name:** Jiahui Dai<br>\n",
        "**Email:** jid4620@thi.de<br>\n",
        "**Group:** B <br>\n",
        "**Hours spend *(optional)* :** <br>"
      ]
    },
    {
      "cell_type": "code",
      "execution_count": 179,
      "id": "ca0db8d8",
      "metadata": {},
      "outputs": [],
      "source": [
        "# Import modules\n",
        "import os\n",
        "import numpy as np\n",
        "import matplotlib.pyplot as plt\n",
        "import pandas as pd\n",
        "from collections import Counter, OrderedDict, defaultdict\n",
        "from nltk.stem import PorterStemmer\n",
        "from nltk.corpus import stopwords\n",
        "from sklearn.model_selection import train_test_split\n",
        "import re\n",
        "import math\n"
      ]
    },
    {
      "cell_type": "code",
      "execution_count": 180,
      "id": "5c719541",
      "metadata": {},
      "outputs": [
        {
          "name": "stderr",
          "output_type": "stream",
          "text": [
            "[nltk_data] Downloading package stopwords to\n",
            "[nltk_data]     /Users/jiahuidai/nltk_data...\n",
            "[nltk_data]   Package stopwords is already up-to-date!\n"
          ]
        },
        {
          "data": {
            "text/plain": [
              "True"
            ]
          },
          "execution_count": 180,
          "metadata": {},
          "output_type": "execute_result"
        }
      ],
      "source": [
        "##############################\n",
        "### To load stopwords\n",
        "### Generated from ChatGPT\n",
        "##############################\n",
        "\n",
        "import ssl\n",
        "import certifi\n",
        "import urllib.request\n",
        "import nltk\n",
        "\n",
        "# Set up SSL context using certifi\n",
        "context = ssl.create_default_context(cafile=certifi.where())\n",
        "\n",
        "# Patch urllib with the custom context for NLTK downloader\n",
        "urllib.request.install_opener(urllib.request.build_opener(urllib.request.HTTPSHandler(context=context)))\n",
        "\n",
        "# Now download the stopwords resource\n",
        "nltk.download('stopwords')\n"
      ]
    },
    {
      "cell_type": "code",
      "execution_count": 181,
      "id": "790c57d5",
      "metadata": {},
      "outputs": [],
      "source": [
        "# Load filenames\n",
        "data_folder = \"sms_spam_collection\"\n",
        "sms_spam_collection = os.path.join(data_folder, \"SMSSpamCollection\")"
      ]
    },
    {
      "cell_type": "markdown",
      "id": "09f79f88",
      "metadata": {
        "id": "09f79f88"
      },
      "source": [
        "### SMS Spam Detection *(60 points)*"
      ]
    },
    {
      "cell_type": "markdown",
      "id": "148e88d0",
      "metadata": {
        "id": "148e88d0"
      },
      "source": [
        "<p>You are hired as an AI expert in the development department of a telecommunications company. The first thing on your orientation plan is a small project that your boss has assigned you for the following given situation. Your supervisor has given away his private cell phone number on too many websites and is now complaining about daily spam SMS. Therefore, it is your job to write a spam detector in Python. </p>\n",
        "\n",
        "<p>In doing so, you need to use a Naive Bayes classifier that can handle both bag-of-words (BoW) and tf-idf features as input. For the evaluation of your spam detector, an SMS collection is available as a dataset - this has yet to be suitably split into train and test data. To keep the costs as low as possible and to avoid problems with copyrights, your boss insists on a new development with Python.</p>\n",
        "\n",
        "<p>Include a short description of the data preprocessing steps, method, experiment design, hyper-parameters, and evaluation metric. Also, document your findings, drawbacks, and potential improvements.</p>\n",
        "\n",
        "<p>Note: You need to implement the bag-of-words (BoW) and tf-idf feature extractor from scratch. You can use existing python libraries for other tasks.</p>"
      ]
    },
    {
      "cell_type": "markdown",
      "id": "fad12eba",
      "metadata": {
        "id": "fad12eba"
      },
      "source": [
        "**Dataset and Resources**\n",
        "\n",
        "* SMS Spam Collection Dataset: https://archive.ics.uci.edu/dataset/228/sms+spam+collection"
      ]
    },
    {
      "cell_type": "code",
      "execution_count": 182,
      "id": "29f1378f",
      "metadata": {},
      "outputs": [
        {
          "data": {
            "text/html": [
              "<div>\n",
              "<style scoped>\n",
              "    .dataframe tbody tr th:only-of-type {\n",
              "        vertical-align: middle;\n",
              "    }\n",
              "\n",
              "    .dataframe tbody tr th {\n",
              "        vertical-align: top;\n",
              "    }\n",
              "\n",
              "    .dataframe thead th {\n",
              "        text-align: right;\n",
              "    }\n",
              "</style>\n",
              "<table border=\"1\" class=\"dataframe\">\n",
              "  <thead>\n",
              "    <tr style=\"text-align: right;\">\n",
              "      <th></th>\n",
              "      <th>spam</th>\n",
              "      <th>message</th>\n",
              "    </tr>\n",
              "  </thead>\n",
              "  <tbody>\n",
              "    <tr>\n",
              "      <th>0</th>\n",
              "      <td>ham</td>\n",
              "      <td>Go until jurong point, crazy.. Available only ...</td>\n",
              "    </tr>\n",
              "    <tr>\n",
              "      <th>1</th>\n",
              "      <td>ham</td>\n",
              "      <td>Ok lar... Joking wif u oni...</td>\n",
              "    </tr>\n",
              "    <tr>\n",
              "      <th>2</th>\n",
              "      <td>spam</td>\n",
              "      <td>Free entry in 2 a wkly comp to win FA Cup fina...</td>\n",
              "    </tr>\n",
              "    <tr>\n",
              "      <th>3</th>\n",
              "      <td>ham</td>\n",
              "      <td>U dun say so early hor... U c already then say...</td>\n",
              "    </tr>\n",
              "    <tr>\n",
              "      <th>4</th>\n",
              "      <td>ham</td>\n",
              "      <td>Nah I don't think he goes to usf, he lives aro...</td>\n",
              "    </tr>\n",
              "  </tbody>\n",
              "</table>\n",
              "</div>"
            ],
            "text/plain": [
              "   spam                                            message\n",
              "0   ham  Go until jurong point, crazy.. Available only ...\n",
              "1   ham                      Ok lar... Joking wif u oni...\n",
              "2  spam  Free entry in 2 a wkly comp to win FA Cup fina...\n",
              "3   ham  U dun say so early hor... U c already then say...\n",
              "4   ham  Nah I don't think he goes to usf, he lives aro..."
            ]
          },
          "execution_count": 182,
          "metadata": {},
          "output_type": "execute_result"
        }
      ],
      "source": [
        "# Load dataset\n",
        "data = pd.read_csv(sms_spam_collection, sep='\\t', header=None, names=['spam', 'message'])\n",
        "data.head()"
      ]
    },
    {
      "cell_type": "code",
      "execution_count": 183,
      "id": "6473f44f",
      "metadata": {},
      "outputs": [
        {
          "data": {
            "text/html": [
              "<div>\n",
              "<style scoped>\n",
              "    .dataframe tbody tr th:only-of-type {\n",
              "        vertical-align: middle;\n",
              "    }\n",
              "\n",
              "    .dataframe tbody tr th {\n",
              "        vertical-align: top;\n",
              "    }\n",
              "\n",
              "    .dataframe thead th {\n",
              "        text-align: right;\n",
              "    }\n",
              "</style>\n",
              "<table border=\"1\" class=\"dataframe\">\n",
              "  <thead>\n",
              "    <tr style=\"text-align: right;\">\n",
              "      <th></th>\n",
              "      <th>spam</th>\n",
              "      <th>message</th>\n",
              "    </tr>\n",
              "  </thead>\n",
              "  <tbody>\n",
              "    <tr>\n",
              "      <th>0</th>\n",
              "      <td>False</td>\n",
              "      <td>Go until jurong point, crazy.. Available only ...</td>\n",
              "    </tr>\n",
              "    <tr>\n",
              "      <th>1</th>\n",
              "      <td>False</td>\n",
              "      <td>Ok lar... Joking wif u oni...</td>\n",
              "    </tr>\n",
              "    <tr>\n",
              "      <th>2</th>\n",
              "      <td>True</td>\n",
              "      <td>Free entry in 2 a wkly comp to win FA Cup fina...</td>\n",
              "    </tr>\n",
              "    <tr>\n",
              "      <th>3</th>\n",
              "      <td>False</td>\n",
              "      <td>U dun say so early hor... U c already then say...</td>\n",
              "    </tr>\n",
              "    <tr>\n",
              "      <th>4</th>\n",
              "      <td>False</td>\n",
              "      <td>Nah I don't think he goes to usf, he lives aro...</td>\n",
              "    </tr>\n",
              "  </tbody>\n",
              "</table>\n",
              "</div>"
            ],
            "text/plain": [
              "    spam                                            message\n",
              "0  False  Go until jurong point, crazy.. Available only ...\n",
              "1  False                      Ok lar... Joking wif u oni...\n",
              "2   True  Free entry in 2 a wkly comp to win FA Cup fina...\n",
              "3  False  U dun say so early hor... U c already then say...\n",
              "4  False  Nah I don't think he goes to usf, he lives aro..."
            ]
          },
          "execution_count": 183,
          "metadata": {},
          "output_type": "execute_result"
        }
      ],
      "source": [
        "# Change spam's values to boolean\n",
        "data['spam'] = data['spam'].map({'ham': False, 'spam': True})\n",
        "data.head()"
      ]
    },
    {
      "cell_type": "code",
      "execution_count": 184,
      "id": "49c42b63",
      "metadata": {},
      "outputs": [
        {
          "data": {
            "text/plain": [
              "spam\n",
              "False    4825\n",
              "True      747\n",
              "Name: count, dtype: int64"
            ]
          },
          "execution_count": 184,
          "metadata": {},
          "output_type": "execute_result"
        }
      ],
      "source": [
        "# View summary of 'spam' column\n",
        "data['spam'].value_counts()"
      ]
    },
    {
      "cell_type": "code",
      "execution_count": 185,
      "id": "4cd4c628",
      "metadata": {},
      "outputs": [],
      "source": [
        "# Split train and test data\n",
        "X_train, X_test, y_train, y_test = train_test_split(data['message'], data['spam'], test_size=0.2, random_state=42)\n",
        "\n",
        "train_df = pd.DataFrame({\n",
        "    'message': X_train,\n",
        "    'spam': y_train\n",
        "}).reset_index(drop=True)\n",
        "\n",
        "test_df = pd.DataFrame({\n",
        "    'message': X_test,\n",
        "    'spam': y_test\n",
        "}).reset_index(drop=True)"
      ]
    },
    {
      "cell_type": "code",
      "execution_count": 186,
      "id": "d9daacdd",
      "metadata": {},
      "outputs": [],
      "source": [
        "class OrderedCounter(Counter, OrderedDict):\n",
        "    '''To create an ordered counter'''\n",
        "\n",
        "    pass"
      ]
    },
    {
      "cell_type": "code",
      "execution_count": 187,
      "id": "7386de36",
      "metadata": {},
      "outputs": [],
      "source": [
        "class NavieBayesClassifier():\n",
        "\n",
        "    def __init__(self):\n",
        "        pass\n",
        "\n",
        "    @staticmethod\n",
        "    def tokenize(corpus):\n",
        "        \"\"\"\n",
        "        Tokenise corpus into individual words\n",
        "        \"\"\"\n",
        "        words = re.split(r\"\\W+\", corpus) # spilt based on non-alphanumeric\n",
        "        words = [word.lower() for word in words if len(word) > 0] # lowercase words and ignore ''\n",
        "        return words\n",
        "    \n",
        "    def preprocess(self, corpus):\n",
        "        \"\"\"\n",
        "        To preprocess words\n",
        "        1. Tokenisation\n",
        "        2. Stop words removal\n",
        "        \"\"\"\n",
        "        stop_words = stopwords.words('english')\n",
        "\n",
        "        words = self.tokenize(corpus) # tokenize words\n",
        "        words = [word for word in words if word not in stop_words] # remove stop words\n",
        "        # words = [PorterStemmer().stem(word) for word in words] # Stemming\n",
        "        return words\n",
        "    \n",
        "    def bag_of_words(self, documents: pd.DataFrame):\n",
        "        self.spam_counter = OrderedCounter()\n",
        "        self.ham_counter = OrderedCounter()\n",
        "        self.spam_bags = OrderedCounter()\n",
        "        self.ham_bags = OrderedCounter()\n",
        "        self.spam_len = documents[\"spam\"].value_counts()[True]\n",
        "        self.ham_len = documents[\"spam\"].value_counts()[False]\n",
        "\n",
        "        for i, row in documents.iterrows():\n",
        "            msg = self.preprocess(row[\"message\"])\n",
        "            spam = row[\"spam\"]\n",
        "\n",
        "            # Tag document to the corresponding Counter\n",
        "            if spam:\n",
        "                self.spam_counter.update(msg)\n",
        "                self.spam_bags.update(set(msg))\n",
        "            else:\n",
        "                self.ham_counter.update(msg)\n",
        "                self.ham_bags.update(set(msg))\n",
        "\n",
        "        self.words_counter = self.spam_counter + self.ham_counter\n",
        "\n",
        "    def tf_idf(self, t, d=None):\n",
        "        \"\"\"\n",
        "        t: word/token\n",
        "        d: Counter of all tokens in corpus\n",
        "        \"\"\"\n",
        "        # Term Frequency\n",
        "        t_terms_appearance = self.words_counter.get(t, 0)\n",
        "        word_count = sum(self.words_counter.values())\n",
        "        tf = t_terms_appearance / word_count if word_count > 0 else 0\n",
        "\n",
        "        # Inverse Document Frequency\n",
        "        total_doc = self.ham_len + self.spam_len\n",
        "        t_appearance = self.spam_bags.get(t, 0) + self.ham_bags.get(t, 0)\n",
        "        idf = math.log(total_doc / t_appearance) if t_appearance > 0 else 0\n",
        "\n",
        "        # TF-IDF\n",
        "        return tf * idf\n",
        "    \n",
        "    def log_probability(self, message, spam, alpha=1):\n",
        "        \"\"\"\n",
        "        Calculation of text probability given spam label\n",
        "        Equation 1-2\n",
        "        \"\"\"\n",
        "        b = 1 if spam else 0\n",
        "\n",
        "        log_sum = 0\n",
        "        for word in self.preprocess(message):\n",
        "            P_xi_wj = self.word_probability(word, spam)\n",
        "            log_sum += b * math.log2(P_xi_wj) + (1 - b) * math.log2(1 - P_xi_wj)\n",
        "\n",
        "        return log_sum\n",
        "    \n",
        "    def word_probability(self, word, spam, alpha=1):\n",
        "        \"\"\"\n",
        "        Calculation of token probability given spam label, in documents\n",
        "        Equation 3\n",
        "        \"\"\"\n",
        "        if spam:\n",
        "            df_xy = self.spam_bags.get(word, 0)\n",
        "            df_y = self.spam_len\n",
        "        else: \n",
        "            df_xy = self.ham_bags.get(word, 0)\n",
        "            df_y = self.ham_len\n",
        "\n",
        "        return (df_xy + alpha) / (df_y + 2 * alpha)\n",
        "\n",
        "\n",
        "    def spam_decision(self, message, alpha=1):\n",
        "        \"\"\"\n",
        "        To determine if a given message is spam or ham\n",
        "        Equation 4-10\n",
        "        \"\"\"\n",
        "        # Prior probabilities\n",
        "        log_p_spam = math.log2(self.spam_len / (self.spam_len + self.ham_len)) # Eq. 7\n",
        "        log_p_ham = math.log2(self.ham_len / (self.spam_len + self.ham_len)) # Eq. 8\n",
        "\n",
        "        # Class-conditional probabilities (P(X | class))\n",
        "        log_p_X_spam = self.log_probability(message, True, alpha)\n",
        "        log_p_X_ham = self.log_probability(message, False, alpha)\n",
        "        # log_p_X = math.log2(p_X_spam * p_spam + p_X_ham * p_ham) # Eq. 10 # ignored\n",
        "\n",
        "        # Posterior probabilities\n",
        "        log_p_spam_X = log_p_X_spam + log_p_spam # Eq. 5\n",
        "        log_p_ham_X = log_p_X_ham + log_p_ham # Eq. 6\n",
        "\n",
        "        # print(f\"log P(spam|X): {log_p_spam_X}, log P(ham|X): {log_p_ham_X}\")\n",
        "\n",
        "        # Eq. 4\n",
        "        return log_p_spam_X >= log_p_ham_X\n",
        "\n",
        "    def train(self, train_df):\n",
        "        self.bag_of_words(train_df)\n",
        "\n",
        "    def test(self, test_df, alpha=1):\n",
        "        self.prediction_df = test_df.copy()\n",
        "        self.prediction_df[\"predicted\"] = test_df[\"message\"].apply(lambda msg: self.spam_decision(msg, alpha))\n",
        "        # self.evaluate_metrics()\n",
        "\n",
        "    def evaluate_metrics(self):\n",
        "        actual = self.prediction_df[\"spam\"]\n",
        "        predicted = self.prediction_df[\"predicted\"]\n",
        "        TP = ((actual == True) & (predicted == True)).sum()\n",
        "        TN = ((actual == False) & (predicted == False)).sum()\n",
        "        FP = ((actual == False) & (predicted == True)).sum()\n",
        "        FN = ((actual == True) & (predicted == False)).sum()\n",
        "\n",
        "        self.accuracy = (TP + TN) / (len(self.prediction_df))\n",
        "        self.recall = (TP) / (TP + FN)\n",
        "        self.fpr = (FP) / (FP + TN)\n",
        "        self.precision = (TP) / (TP + FP)\n",
        "\n",
        "    def print_metrics(self):\n",
        "        print(f\"\"\"\n",
        "            Accuracy: {self.accuracy}\n",
        "            Recall: {self.recall}\n",
        "            False positive rate: {self.fpr}\n",
        "            Precision: {self.precision}\n",
        "        \"\"\")\n"
      ]
    },
    {
      "cell_type": "code",
      "execution_count": 188,
      "id": "99a41ee8",
      "metadata": {},
      "outputs": [
        {
          "data": {
            "text/plain": [
              "predicted\n",
              "False    1115\n",
              "Name: count, dtype: int64"
            ]
          },
          "execution_count": 188,
          "metadata": {},
          "output_type": "execute_result"
        }
      ],
      "source": [
        "model = NavieBayesClassifier()\n",
        "model.train(train_df)\n",
        "model.test(test_df)\n",
        "\n",
        "model.prediction_df[\"predicted\"].value_counts()"
      ]
    },
    {
      "cell_type": "code",
      "execution_count": null,
      "id": "f776edd2",
      "metadata": {},
      "outputs": [
        {
          "data": {
            "image/png": "[encoded data removed]",
            "text/plain": [
              "<Figure size 640x480 with 1 Axes>"
            ]
          },
          "metadata": {},
          "output_type": "display_data"
        }
      ],
      "source": [
        "# Get the sorted terms and their TF-IDF values\n",
        "sorted_terms = sorted(model.words_counter.keys(), key=lambda word: model.tf_idf(word), reverse=True)\n",
        "\n",
        "# Get the top N terms to plot (adjust N as needed)\n",
        "top_n = 20\n",
        "top_terms = sorted_terms[:top_n]\n",
        "top_tfidf = [model.tf_idf(word) for word in top_terms]\n",
        "\n",
        "# Create the plot\n",
        "plt.barh(top_terms, top_tfidf)\n",
        "plt.xlabel('TF-IDF Value')\n",
        "plt.ylabel('Terms')\n",
        "plt.title('Top 20 Terms by TF-IDF Value (Train Data)')\n",
        "plt.gca().invert_yaxis()  # Invert y-axis to display the highest values at the top\n",
        "plt.show()"
      ]
    },
    {
      "cell_type": "code",
      "execution_count": null,
      "id": "fcc6e5c0",
      "metadata": {},
      "outputs": [
        {
          "data": {
            "image/png": "[encoded data removed]",
            "text/plain": [
              "<Figure size 640x480 with 1 Axes>"
            ]
          },
          "metadata": {},
          "output_type": "display_data"
        }
      ],
      "source": [
        "test_model = NavieBayesClassifier()\n",
        "test_model.train(test_df)\n",
        "\n",
        "# Get the sorted terms and their TF-IDF values\n",
        "sorted_terms = sorted(test_model.words_counter.keys(), key=lambda word: test_model.tf_idf(word), reverse=True)\n",
        "\n",
        "# Get the top N terms to plot (adjust N as needed)\n",
        "top_n = 20\n",
        "top_terms = sorted_terms[:top_n]\n",
        "top_tfidf = [test_model.tf_idf(word) for word in top_terms]\n",
        "\n",
        "# Create the plot\n",
        "plt.barh(top_terms, top_tfidf, color='orange')\n",
        "plt.xlabel('TF-IDF Value')\n",
        "plt.ylabel('Terms')\n",
        "plt.title('Top 20 Terms by TF-IDF Value (Test Data)')\n",
        "plt.gca().invert_yaxis()  # Invert y-axis to display the highest values at the top\n",
        "plt.show()"
      ]
    },
    {
      "cell_type": "markdown",
      "id": "jEykmdVPwqPA",
      "metadata": {
        "id": "jEykmdVPwqPA"
      },
      "source": [
        " ### Search Engine *(40 points)*"
      ]
    },
    {
      "cell_type": "markdown",
      "id": "-CRJj4Ypw1Z2",
      "metadata": {
        "id": "-CRJj4Ypw1Z2"
      },
      "source": [
        "Your boss is impressed with your spam detector and assigns you a new task. As part of improving internal tools, the company wants a search engine that can search through SMS messages and rank them by relevance. Implement the PageRank algorithm from scratch to score each SMS message based on its importance in the document graph.\n",
        "\n",
        "*   Compute TF-IDF vectors for all SMS messages (you can leverage previous implementation)\n",
        "*   Construct a document graph, where each node represents an SMS message and edges are the links between nodes.\n",
        "*  Implement the PageRank algorithm from scratch to assign an importance score to each SMS message based on its position in the document graph.\n",
        "\n",
        "#### Hint : You can use the previous dataset or any dataset from your choice.\n",
        "\n",
        "\n"
      ]
    },
    {
      "cell_type": "markdown",
      "id": "G_2IblEnUeju",
      "metadata": {
        "id": "G_2IblEnUeju"
      },
      "source": [
        "## You might need the follwoing formulas for your implementation\n",
        "\n",
        "---\n",
        "\n",
        "### 1) Cosine Similarity Between Two Document Vectors\n",
        "\n",
        "Cosine similarity measures how similar two vectors are based on the angle between them:\n",
        "\n",
        "$$\n",
        "\\text{cosine\\_sim}(A, B) = \\frac{A \\cdot B}{\\|A\\| \\cdot \\|B\\|}\n",
        "$$\n",
        "\n",
        "- \\( A \\cdot B \\): Dot product of vectors \\( A \\) and \\( B \\)  \n",
        "- \\( \\|A\\| \\): Euclidean norm (magnitude) of vector \\( A \\)  \n",
        "- \\( \\|B\\| \\): Euclidean norm of vector \\( B \\)\n",
        "\n",
        "**Use case**: Comparing TF-IDF vectors to measure similarity between two messages.\n",
        "\n",
        "---\n",
        "\n",
        "### 2) PageRank of a Node \\( i \\)\n",
        "\n",
        "PageRank estimates the importance of a document based on its connections in a graph:\n",
        "\n",
        "$$\n",
        "PR(i) = \\frac{1 - d}{N} + d \\sum_{j \\in M(i)} \\frac{PR(j)}{L(j)}\n",
        "$$\n",
        "\n",
        "Where:\n",
        "- \\( PR(i) \\): PageRank score of node \\( i \\)  \n",
        "- \\( d \\): Damping factor (typically 0.85)  \n",
        "- \\( N \\): Total number of nodes (documents) in the graph  \n",
        "- \\( M(i) \\): Set of nodes that link to node \\( i \\)  \n",
        "- \\( L(j) \\): Number of outbound links from node \\( j \\)  \n",
        "\n",
        "**Interpretation**:  \n",
        "- A document is important if **important documents link to it**.  \n",
        "- The score is split among a node’s outbound links.  \n",
        "- The **teleportation term** $\\text(\\frac{1 - d}{N})$ accounts for random jumps, ensuring stability and fairness.\n",
        "\n",
        "---\n",
        "\n"
      ]
    },
    {
      "cell_type": "markdown",
      "id": "55cbc82a",
      "metadata": {
        "id": "55cbc82a"
      },
      "source": [
        "### Additional Experiments *(5 additional points - <span style=\"color: red;\">Optional</span>)*"
      ]
    },
    {
      "cell_type": "code",
      "execution_count": null,
      "id": "9b5820d4",
      "metadata": {
        "id": "9b5820d4"
      },
      "outputs": [],
      "source": []
    }
  ],
  "metadata": {
    "colab": {
      "provenance": []
    },
    "kernelspec": {
      "display_name": ".venv",
      "language": "python",
      "name": "python3"
    },
    "language_info": {
      "codemirror_mode": {
        "name": "ipython",
        "version": 3
      },
      "file_extension": ".py",
      "mimetype": "text/x-python",
      "name": "python",
      "nbconvert_exporter": "python",
      "pygments_lexer": "ipython3",
      "version": "3.12.0"
    }
  },
  "nbformat": 4,
  "nbformat_minor": 5
}
